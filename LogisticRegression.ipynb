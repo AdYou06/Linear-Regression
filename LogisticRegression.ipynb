# Logistic Regression Implementation
from sklearn.model_selection import train_test_split
from sklearn.metrics import accuracy_score

# Load the dataset
data = pd.read_csv('heart.csv')  # Replace with the actual path to the dataset
X = data.drop('target', axis=1).values
y = data['target'].values

# Add a column of ones for the bias term
X = np.c_[np.ones(X.shape[0]), X]

# Sigmoid function
def sigmoid(z):
    return 1 / (1 + np.exp(-z))

# Logistic Regression from scratch
def logistic_regression(X, y, lr=0.01, epochs=1000):
    weights = np.zeros(X.shape[1])
    
    for epoch in range(epochs):
        # Calculate predictions
        z = X @ weights
        predictions = sigmoid(z)
        
        # Gradient descent update
        gradient = X.T @ (predictions - y) / y.size
        weights -= lr * gradient
    
    return weights

# Train the model
weights = logistic_regression(X, y)

# Predictions
def predict_logistic(X, weights):
    return (sigmoid(X @ weights) >= 0.5).astype(int)

y_pred = predict_logistic(X, weights)

# Evaluate the model
accuracy = accuracy_score(y, y_pred)
print(f"Accuracy: {accuracy * 100:.2f}%")
