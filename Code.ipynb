# Linear Regression Implementation
import numpy as np
import pandas as pd
import matplotlib.pyplot as plt

# Load the dataset
data = pd.read_csv('salary.csv')  # Replace with the actual path to the dataset
X = data['YearsExperience'].values.reshape(-1, 1)
y = data['Salary'].values

# Add a column of ones for the bias term
X = np.c_[np.ones(X.shape[0]), X]

# Linear Regression from scratch
def linear_regression(X, y):
    # Calculate weights using the normal equation: w = (X^T * X)^-1 * X^T * y
    weights = np.linalg.inv(X.T @ X) @ X.T @ y
    return weights

# Train the model
weights = linear_regression(X, y)

# Predictions
def predict(X, weights):
    return X @ weights

y_pred = predict(X, weights)

# Plot the results
plt.scatter(data['YearsExperience'], data['Salary'], color='blue', label='Actual')
plt.plot(data['YearsExperience'], y_pred, color='red', label='Predicted')
plt.xlabel('Years of Experience')
plt.ylabel('Salary')
plt.legend()
plt.title('Linear Regression')
plt.show()

print(f"Model Weights: {weights}")
